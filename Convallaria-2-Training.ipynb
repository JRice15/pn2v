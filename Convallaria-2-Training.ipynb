{
 "cells": [
  {
   "cell_type": "markdown",
   "metadata": {},
   "source": [
    "# PN2V Training\n",
    "Here we will use the generated noise model and train a PN2V network on single noisy images.\n",
    "Please run the 'Convallaria-1-CreateNoiseModel' notebook first."
   ]
  },
  {
   "cell_type": "code",
   "execution_count": 2,
   "metadata": {},
   "outputs": [
    {
     "name": "stdout",
     "output_type": "stream",
     "text": [
      "CUDA available? True\n"
     ]
    }
   ],
   "source": [
    "import matplotlib.pyplot as plt\n",
    "import numpy as np\n",
    "from unet.model import UNet\n",
    "\n",
    "from pn2v import utils\n",
    "from pn2v import histNoiseModel\n",
    "from pn2v import training\n",
    "from tifffile import imread\n",
    "# See if we can use a GPU\n",
    "device=utils.getDevice()"
   ]
  },
  {
   "cell_type": "markdown",
   "metadata": {},
   "source": [
    "### Load Data"
   ]
  },
  {
   "cell_type": "code",
   "execution_count": 3,
   "metadata": {},
   "outputs": [],
   "source": [
    "path='data/Convallaria_diaphragm/'\n",
    "\n",
    "# Load the training data\n",
    "data=imread(path+'20190520_tl_25um_50msec_05pc_488_130EM_Conv.tif')"
   ]
  },
  {
   "cell_type": "code",
   "execution_count": 4,
   "metadata": {},
   "outputs": [],
   "source": [
    "# We are loading the histogram from the 'Convallaria-1-CreateNoiseModel' notebook\n",
    "histogram=np.load(path+'noiseModel.npy')\n",
    "\n",
    "# Create a NoiseModel object from the histogram.\n",
    "noiseModel=histNoiseModel.NoiseModel(histogram, device=device)"
   ]
  },
  {
   "cell_type": "markdown",
   "metadata": {},
   "source": [
    "### Create the Network and Train it\n",
    "This can take a while."
   ]
  },
  {
   "cell_type": "code",
   "execution_count": 5,
   "metadata": {},
   "outputs": [
    {
     "name": "stderr",
     "output_type": "stream",
     "text": [
      "/home/krull/projects/pn2vCheck/pn2v/unet/model.py:215: UserWarning: nn.init.xavier_normal is now deprecated in favor of nn.init.xavier_normal_.\n",
      "  init.xavier_normal(m.weight)\n",
      "/home/krull/projects/pn2vCheck/pn2v/unet/model.py:216: UserWarning: nn.init.constant is now deprecated in favor of nn.init.constant_.\n",
      "  init.constant(m.bias, 0)\n"
     ]
    },
    {
     "name": "stdout",
     "output_type": "stream",
     "text": [
      "Epoch 0 finished      \n",
      "avg. loss: 4.828270506858826+-(2SEM)0.1729602988638189      \n",
      "Epoch 1 finished      \n",
      "avg. loss: 4.068684279918671+-(2SEM)0.07539298678448518      \n",
      "Epoch 2 finished      \n",
      "avg. loss: 3.8612277626991274+-(2SEM)0.0472511315209929      \n",
      "Epoch 3 finished      \n",
      "avg. loss: 3.8624621629714966+-(2SEM)0.055359935434300026      \n",
      "Epoch 4 finished      \n",
      "avg. loss: 3.7244805216789247+-(2SEM)0.06268132630991505      \n",
      "Epoch 5 finished      \n",
      "avg. loss: 3.752237868309021+-(2SEM)0.06591269315801568      \n",
      "Epoch 6 finished      \n",
      "avg. loss: 3.6768921613693237+-(2SEM)0.062207044699445144      \n",
      "Epoch 7 finished      \n",
      "avg. loss: 3.634579062461853+-(2SEM)0.08254525990963044      \n",
      "Epoch 8 finished      \n",
      "avg. loss: 3.6071239590644835+-(2SEM)0.07674561444496499      \n",
      "Epoch 9 finished      \n",
      "avg. loss: 3.545901620388031+-(2SEM)0.0567937394947525      \n",
      "Epoch 10 finished      \n",
      "avg. loss: 3.4472676038742067+-(2SEM)0.062203922456008566      \n",
      "Epoch 11 finished      \n",
      "avg. loss: 3.481775367259979+-(2SEM)0.043821553437030654      \n",
      "Epoch 12 finished      \n",
      "avg. loss: 3.4216019988059996+-(2SEM)0.0713544454234222      \n",
      "Epoch 13 finished      \n",
      "avg. loss: 3.397827982902527+-(2SEM)0.06236296147543983      \n",
      "Epoch 14 finished      \n",
      "avg. loss: 3.3349706649780275+-(2SEM)0.053723085461449445      \n",
      "Epoch 15 finished      \n",
      "avg. loss: 3.3964115262031553+-(2SEM)0.05835925128658034      \n",
      "Epoch 16 finished      \n",
      "avg. loss: 3.4407668352127074+-(2SEM)0.07757877046800185      \n",
      "Epoch 17 finished      \n",
      "avg. loss: 3.2822455048561094+-(2SEM)0.06049862459603084      \n",
      "Epoch 18 finished      \n",
      "avg. loss: 3.2755987644195557+-(2SEM)0.042556055787236716      \n",
      "Epoch 19 finished      \n",
      "avg. loss: 3.2900705456733705+-(2SEM)0.06220279852603303      \n",
      "Epoch 20 finished      \n",
      "avg. loss: 3.196521484851837+-(2SEM)0.04447251295999323      \n",
      "Epoch 21 finished      \n",
      "avg. loss: 3.1958243608474732+-(2SEM)0.06271083549353851      \n",
      "Epoch 22 finished      \n",
      "avg. loss: 3.179689145088196+-(2SEM)0.05102314769164286      \n",
      "Epoch 23 finished      \n",
      "avg. loss: 3.1687147855758666+-(2SEM)0.05928279369155696      \n",
      "Epoch 24 finished      \n",
      "avg. loss: 3.1329154849052427+-(2SEM)0.04826606239793017      \n",
      "Epoch 25 finished      \n",
      "avg. loss: 3.139337146282196+-(2SEM)0.05675794743268643      \n",
      "Epoch 26 finished      \n",
      "avg. loss: 3.1606290459632875+-(2SEM)0.061801751048067594      \n",
      "Epoch 27 finished      \n",
      "avg. loss: 3.1888724684715273+-(2SEM)0.05407353386237978      \n",
      "Epoch 28 finished      \n",
      "avg. loss: 3.0780680537223817+-(2SEM)0.044935735509577183      \n",
      "Epoch 29 finished      \n",
      "avg. loss: 3.0958228945732116+-(2SEM)0.056336196671326305      \n",
      "Epoch 30 finished      \n",
      "avg. loss: 3.0684174060821534+-(2SEM)0.05431178960099125      \n",
      "Epoch 31 finished      \n",
      "avg. loss: 3.057508039474487+-(2SEM)0.052590195417682346      \n",
      "Epoch 32 finished      \n",
      "avg. loss: 3.0574524998664856+-(2SEM)0.04348875116332454      \n",
      "Epoch 33 finished      \n",
      "avg. loss: 3.0689157485961913+-(2SEM)0.047492940842530626      \n",
      "Epoch 34 finished      \n",
      "avg. loss: 3.0733505725860595+-(2SEM)0.052784427232425185      \n",
      "Epoch 35 finished      \n",
      "avg. loss: 3.0305890679359435+-(2SEM)0.04489476692472264      \n",
      "Epoch 36 finished      \n",
      "avg. loss: 3.0448679089546205+-(2SEM)0.04177523793625128      \n",
      "Epoch 37 finished      \n",
      "avg. loss: 3.036412978172302+-(2SEM)0.04780604379802131      \n",
      "Epoch 38 finished      \n",
      "avg. loss: 3.0003154397010805+-(2SEM)0.05502853395673823      \n",
      "Epoch 39 finished      \n",
      "avg. loss: 3.056174027919769+-(2SEM)0.05476429057863142      \n",
      "Epoch 40 finished      \n",
      "avg. loss: 3.008173441886902+-(2SEM)0.04909828032625698      \n",
      "Epoch 41 finished      \n",
      "avg. loss: 3.0108284950256348+-(2SEM)0.05100568462478976      \n",
      "Epoch 42 finished      \n",
      "avg. loss: 2.9959331154823303+-(2SEM)0.051422479539574885      \n",
      "Epoch 43 finished      \n",
      "avg. loss: 3.041641688346863+-(2SEM)0.05509687959811993      \n",
      "Epoch 44 finished      \n",
      "avg. loss: 2.9944557189941405+-(2SEM)0.04137987367650154      \n",
      "Epoch 45 finished      \n",
      "avg. loss: 2.951369321346283+-(2SEM)0.04675493735171801      \n",
      "Epoch 46 finished      \n",
      "avg. loss: 3.028744804859161+-(2SEM)0.061916794759881835      \n",
      "Epoch 47 finished      \n",
      "avg. loss: 2.9902403473854067+-(2SEM)0.052662454622014      \n",
      "Epoch 48 finished      \n",
      "avg. loss: 3.007944715023041+-(2SEM)0.04806587053043927      \n",
      "Epoch 49 finished      \n",
      "avg. loss: 3.01840763092041+-(2SEM)0.05013425265412169      \n",
      "Epoch 50 finished      \n",
      "avg. loss: 2.9847187280654905+-(2SEM)0.05574527212707251      \n",
      "Epoch 51 finished      \n",
      "avg. loss: 2.9582876443862913+-(2SEM)0.046461294785780385      \n",
      "Epoch 52 finished      \n",
      "avg. loss: 2.989358103275299+-(2SEM)0.06638287074168735      \n",
      "Epoch 53 finished      \n",
      "avg. loss: 2.98863422870636+-(2SEM)0.0457257010074464      \n",
      "Epoch 54 finished      \n",
      "avg. loss: 2.9564200043678284+-(2SEM)0.04787927422265155      \n",
      "Epoch 55 finished      \n",
      "avg. loss: 2.969031512737274+-(2SEM)0.057335588339649156      \n",
      "Epoch 56 finished      \n",
      "avg. loss: 2.953257691860199+-(2SEM)0.051292985191275085      \n",
      "Epoch 57 finished      \n",
      "avg. loss: 2.9751259446144105+-(2SEM)0.046349848483907954      \n",
      "Epoch 58 finished      \n",
      "avg. loss: 2.9235389113426207+-(2SEM)0.045212369900855656      \n",
      "Epoch 59 finished      \n",
      "avg. loss: 2.985137927532196+-(2SEM)0.04705734753146746      \n",
      "Epoch 60 finished      \n",
      "avg. loss: 2.979071843624115+-(2SEM)0.037792365947144635      \n",
      "Epoch 61 finished      \n",
      "avg. loss: 2.966676676273346+-(2SEM)0.06079379466335185      \n",
      "Epoch 62 finished      \n",
      "avg. loss: 3.017351806163788+-(2SEM)0.04680323304224638      \n",
      "Epoch    62: reducing learning rate of group 0 to 5.0000e-05.\n",
      "Epoch 63 finished      \n",
      "avg. loss: 2.959204924106598+-(2SEM)0.04789495045903389      \n",
      "Epoch 64 finished      \n",
      "avg. loss: 2.9838022947311402+-(2SEM)0.05890124838783648      \n",
      "Epoch 65 finished      \n",
      "avg. loss: 2.9630072832107546+-(2SEM)0.04323153486382197      \n",
      "Epoch 66 finished      \n",
      "avg. loss: 2.975582182407379+-(2SEM)0.05379580657744936      \n",
      "Epoch 67 finished      \n",
      "avg. loss: 2.9967830419540404+-(2SEM)0.03603227044741287      \n",
      "Epoch 68 finished      \n",
      "avg. loss: 2.996117353439331+-(2SEM)0.05575475191830437      \n",
      "Epoch 69 finished      \n",
      "avg. loss: 2.9921020030975343+-(2SEM)0.05601553328013398      \n",
      "Epoch 70 finished      \n",
      "avg. loss: 2.9962790489196776+-(2SEM)0.051214109832344784      \n",
      "Epoch 71 finished      \n",
      "avg. loss: 2.93857102394104+-(2SEM)0.06013011588189419      \n",
      "Epoch 72 finished      \n",
      "avg. loss: 2.949001741409302+-(2SEM)0.0459097995940769      \n",
      "Epoch 73 finished      \n",
      "avg. loss: 2.9861894249916077+-(2SEM)0.05878978096341288      \n",
      "Epoch 74 finished      \n",
      "avg. loss: 2.996195900440216+-(2SEM)0.05111784617201974      \n",
      "Epoch 75 finished      \n",
      "avg. loss: 2.9501931071281433+-(2SEM)0.03441913013027601      \n",
      "Epoch    75: reducing learning rate of group 0 to 2.5000e-05.\n",
      "Epoch 76 finished      \n",
      "avg. loss: 3.0081923604011536+-(2SEM)0.056703730147837896      \n",
      "Epoch 77 finished      \n",
      "avg. loss: 2.978198730945587+-(2SEM)0.046568025067805385      \n",
      "Epoch 78 finished      \n",
      "avg. loss: 2.9919307112693785+-(2SEM)0.04547630292216453      \n",
      "Epoch 79 finished      \n",
      "avg. loss: 2.981103944778442+-(2SEM)0.06080474552664093      \n",
      "Epoch 80 finished      \n",
      "avg. loss: 2.982698690891266+-(2SEM)0.06802115037143608      \n",
      "Epoch 81 finished      \n",
      "avg. loss: 2.968666648864746+-(2SEM)0.038010344989397746      \n",
      "Epoch 82 finished      \n",
      "avg. loss: 2.9418498516082763+-(2SEM)0.045527430222141174      \n",
      "Epoch 83 finished      \n",
      "avg. loss: 2.98175630569458+-(2SEM)0.05947307181322952      \n",
      "Epoch 84 finished      \n",
      "avg. loss: 2.9958953738212584+-(2SEM)0.028248287314827      \n",
      "Epoch 85 finished      \n",
      "avg. loss: 2.963334345817566+-(2SEM)0.046456387090764356      \n",
      "Epoch 86 finished      \n",
      "avg. loss: 2.944240140914917+-(2SEM)0.04923642466191707      \n",
      "Epoch    86: reducing learning rate of group 0 to 1.2500e-05.\n",
      "Epoch 87 finished      \n",
      "avg. loss: 2.9665226578712462+-(2SEM)0.04274809414536096      \n",
      "Epoch 88 finished      \n",
      "avg. loss: 2.953743207454681+-(2SEM)0.05036330973495447      \n",
      "Epoch 89 finished      \n",
      "avg. loss: 3.000939977169037+-(2SEM)0.04794246294291116      \n",
      "Epoch 90 finished      \n",
      "avg. loss: 2.971689212322235+-(2SEM)0.04627570037113729      \n",
      "Epoch 91 finished      \n",
      "avg. loss: 2.9420386791229247+-(2SEM)0.04885830549655231      \n",
      "Epoch 92 finished      \n",
      "avg. loss: 2.9697282195091246+-(2SEM)0.050613819455546036      \n"
     ]
    },
    {
     "name": "stdout",
     "output_type": "stream",
     "text": [
      "Epoch 93 finished      \n",
      "avg. loss: 2.9938396334648134+-(2SEM)0.05092279524259311      \n",
      "Epoch 94 finished      \n",
      "avg. loss: 3.0064658641815187+-(2SEM)0.054909437033789504      \n",
      "Epoch 95 finished      \n",
      "avg. loss: 2.906344640254974+-(2SEM)0.04056401177709024      \n",
      "Epoch 96 finished      \n",
      "avg. loss: 2.969343638420105+-(2SEM)0.05788820227147032      \n",
      "Epoch 97 finished      \n",
      "avg. loss: 3.0004247784614564+-(2SEM)0.06751210705694385      \n",
      "Epoch    97: reducing learning rate of group 0 to 6.2500e-06.\n",
      "Epoch 98 finished      \n",
      "avg. loss: 2.967023777961731+-(2SEM)0.05367897348316204      \n",
      "Epoch 99 finished      \n",
      "avg. loss: 2.938778579235077+-(2SEM)0.055033456456032      \n",
      "Finished Training      \n"
     ]
    }
   ],
   "source": [
    "# Create a network with 800 output channels that are interpreted as samples from the prior.\n",
    "net = UNet(800, depth=3)\n",
    "\n",
    "# Split training and validation data.\n",
    "my_train_data=data[:-5].copy()\n",
    "my_val_data=data[-5:].copy()\n",
    "\n",
    "# Start training.\n",
    "trainHist, valHist = training.trainNetwork(net=net, trainData=my_train_data, valData=my_val_data,\n",
    "                                           postfix='conv', directory=path, noiseModel=noiseModel,\n",
    "                                           device=device, numOfEpochs= 100, stepsPerEpoch=5)"
   ]
  },
  {
   "cell_type": "code",
   "execution_count": 6,
   "metadata": {
    "scrolled": true
   },
   "outputs": [
    {
     "data": {
      "image/png": "[encoded data removed]",
      "text/plain": [
       "<Figure size 432x288 with 1 Axes>"
      ]
     },
     "metadata": {
      "needs_background": "light"
     },
     "output_type": "display_data"
    }
   ],
   "source": [
    "# Let's look at the training and validation loss\n",
    "plt.xlabel('epoch')\n",
    "plt.ylabel('loss')\n",
    "plt.plot(valHist, label='validation loss')\n",
    "plt.plot(trainHist, label='training loss')\n",
    "plt.legend()\n",
    "plt.show()"
   ]
  }
 ],
 "metadata": {
  "kernelspec": {
   "display_name": "Python 3",
   "language": "python",
   "name": "python3"
  },
  "language_info": {
   "codemirror_mode": {
    "name": "ipython",
    "version": 3
   },
   "file_extension": ".py",
   "mimetype": "text/x-python",
   "name": "python",
   "nbconvert_exporter": "python",
   "pygments_lexer": "ipython3",
   "version": "3.7.1"
  }
 },
 "nbformat": 4,
 "nbformat_minor": 2
}
