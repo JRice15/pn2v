{
 "cells": [
  {
   "cell_type": "markdown",
   "metadata": {},
   "source": [
    "# PN2V Training\n",
    "Here we will use the generated noise model and train a PN2V network on single noisy images.\n",
    "Please run the 'Convallaria-1-CreateNoiseModel' notebook first."
   ]
  },
  {
   "cell_type": "code",
   "execution_count": 1,
   "metadata": {},
   "outputs": [
    {
     "name": "stdout",
     "output_type": "stream",
     "text": [
      "CUDA available? True\n"
     ]
    }
   ],
   "source": [
    "import matplotlib.pyplot as plt\n",
    "import numpy as np\n",
    "from unet.model import UNet\n",
    "\n",
    "from pn2v import utils\n",
    "from pn2v import histNoiseModel\n",
    "from pn2v import training\n",
    "from tifffile import imread\n",
    "# See if we can use a GPU\n",
    "device=utils.getDevice()"
   ]
  },
  {
   "cell_type": "markdown",
   "metadata": {},
   "source": [
    "### Load Data"
   ]
  },
  {
   "cell_type": "code",
   "execution_count": 2,
   "metadata": {},
   "outputs": [],
   "source": [
    "path='data/Convallaria/'\n",
    "\n",
    "# Load the training data\n",
    "data=imread(path+'20190520_tl_25um_50msec_05pc_488_130EM_Conv.tif')"
   ]
  },
  {
   "cell_type": "code",
   "execution_count": 3,
   "metadata": {},
   "outputs": [],
   "source": [
    "# We are loading the histogram from the 'Convallaria-1-CreateNoiseModel' notebook\n",
    "histogram=np.load(path+'noiseModel.npy')\n",
    "\n",
    "# Create a NoiseModel object from the histogram.\n",
    "noiseModel=histNoiseModel.NoiseModel(histogram, device=device)"
   ]
  },
  {
   "cell_type": "markdown",
   "metadata": {},
   "source": [
    "### Create the Network and Train it\n",
    "This can take a while."
   ]
  },
  {
   "cell_type": "code",
   "execution_count": 4,
   "metadata": {},
   "outputs": [
    {
     "name": "stderr",
     "output_type": "stream",
     "text": [
      "/home/krull/projects/pn2vCheck/pn2v/unet/model.py:215: UserWarning: nn.init.xavier_normal is now deprecated in favor of nn.init.xavier_normal_.\n",
      "  init.xavier_normal(m.weight)\n",
      "/home/krull/projects/pn2vCheck/pn2v/unet/model.py:216: UserWarning: nn.init.constant is now deprecated in favor of nn.init.constant_.\n",
      "  init.constant(m.bias, 0)\n"
     ]
    },
    {
     "name": "stdout",
     "output_type": "stream",
     "text": [
      "Epoch 0 finished      \n",
      "avg. loss: 4.673717379570007+-(2SEM)0.07422767626089374      \n",
      "Epoch 1 finished      \n",
      "avg. loss: 4.272440791130066+-(2SEM)0.06742670441299566      \n",
      "Epoch 2 finished      \n",
      "avg. loss: 3.8786499381065367+-(2SEM)0.061194106824552945      \n",
      "Epoch 3 finished      \n",
      "avg. loss: 3.878215456008911+-(2SEM)0.06258685568279643      \n",
      "Epoch 4 finished      \n",
      "avg. loss: 3.8617048144340513+-(2SEM)0.05061116008217909      \n",
      "Epoch 5 finished      \n",
      "avg. loss: 3.719193422794342+-(2SEM)0.04778794627802483      \n",
      "Epoch 6 finished      \n",
      "avg. loss: 3.7254513621330263+-(2SEM)0.05484727410582969      \n",
      "Epoch 7 finished      \n",
      "avg. loss: 3.735727643966675+-(2SEM)0.05603405406871043      \n",
      "Epoch 8 finished      \n",
      "avg. loss: 3.634932816028595+-(2SEM)0.06616973768046368      \n",
      "Epoch 9 finished      \n",
      "avg. loss: 3.5867050886154175+-(2SEM)0.08631560394208097      \n",
      "Epoch 10 finished      \n",
      "avg. loss: 3.633726990222931+-(2SEM)0.07612874882695073      \n",
      "Epoch 11 finished      \n",
      "avg. loss: 3.589245820045471+-(2SEM)0.0794622574893831      \n",
      "Epoch 12 finished      \n",
      "avg. loss: 3.5598026514053345+-(2SEM)0.0720629694130849      \n",
      "Epoch 13 finished      \n",
      "avg. loss: 3.433882713317871+-(2SEM)0.05814486802633748      \n",
      "Epoch 14 finished      \n",
      "avg. loss: 3.531132423877716+-(2SEM)0.08966792905015629      \n",
      "Epoch 15 finished      \n",
      "avg. loss: 3.4298109889030455+-(2SEM)0.06205986824490949      \n",
      "Epoch 16 finished      \n",
      "avg. loss: 3.385926127433777+-(2SEM)0.065130669978974      \n",
      "Epoch 17 finished      \n",
      "avg. loss: 3.3755753874778747+-(2SEM)0.05407002417868555      \n",
      "Epoch 18 finished      \n",
      "avg. loss: 3.3775290727615355+-(2SEM)0.05343754350328794      \n",
      "Epoch 19 finished      \n",
      "avg. loss: 3.3442500233650208+-(2SEM)0.07094103511755794      \n",
      "Epoch 20 finished      \n",
      "avg. loss: 3.3166871070861816+-(2SEM)0.07242275883282628      \n",
      "Epoch 21 finished      \n",
      "avg. loss: 3.3264986634254456+-(2SEM)0.07112113259218952      \n",
      "Epoch 22 finished      \n",
      "avg. loss: 3.253853678703308+-(2SEM)0.05983951107045051      \n",
      "Epoch 23 finished      \n",
      "avg. loss: 3.311110520362854+-(2SEM)0.06104665824818555      \n",
      "Epoch 24 finished      \n",
      "avg. loss: 3.2916042685508726+-(2SEM)0.05662751494198154      \n",
      "Epoch 25 finished      \n",
      "avg. loss: 3.2349294900894163+-(2SEM)0.07634320185813755      \n",
      "Epoch 26 finished      \n",
      "avg. loss: 3.1677350282669066+-(2SEM)0.047927807548392584      \n",
      "Epoch 27 finished      \n",
      "avg. loss: 3.1465500831604003+-(2SEM)0.06381350108385808      \n",
      "Epoch 28 finished      \n",
      "avg. loss: 3.1556413412094115+-(2SEM)0.06003990067627289      \n",
      "Epoch 29 finished      \n",
      "avg. loss: 3.1861046314239503+-(2SEM)0.05529249507541888      \n",
      "Epoch 30 finished      \n",
      "avg. loss: 3.159814953804016+-(2SEM)0.050071292081346266      \n",
      "Epoch 31 finished      \n",
      "avg. loss: 3.1652775049209594+-(2SEM)0.053051523809042794      \n",
      "Epoch 32 finished      \n",
      "avg. loss: 3.148436260223389+-(2SEM)0.06324104618288691      \n",
      "Epoch 33 finished      \n",
      "avg. loss: 3.1540151953697206+-(2SEM)0.047931529942897726      \n",
      "Epoch 34 finished      \n",
      "avg. loss: 3.05502735376358+-(2SEM)0.05077094495470296      \n",
      "Epoch 35 finished      \n",
      "avg. loss: 3.092087781429291+-(2SEM)0.06354301629109853      \n",
      "Epoch 36 finished      \n",
      "avg. loss: 2.98983496427536+-(2SEM)0.039880838936637616      \n",
      "Epoch 37 finished      \n",
      "avg. loss: 3.044376862049103+-(2SEM)0.05218358334599544      \n",
      "Epoch 38 finished      \n",
      "avg. loss: 3.004030430316925+-(2SEM)0.048901746853742045      \n",
      "Epoch 39 finished      \n",
      "avg. loss: 3.0269715666770933+-(2SEM)0.05969260986582145      \n",
      "Epoch 40 finished      \n",
      "avg. loss: 3.0033209323883057+-(2SEM)0.05852342646465684      \n",
      "Epoch 41 finished      \n",
      "avg. loss: 3.044315826892853+-(2SEM)0.056773103118584314      \n",
      "Epoch 42 finished      \n",
      "avg. loss: 3.0093343615531922+-(2SEM)0.03858155193362533      \n",
      "Epoch 43 finished      \n",
      "avg. loss: 3.0468823075294496+-(2SEM)0.0516954167202262      \n",
      "Epoch 44 finished      \n",
      "avg. loss: 3.0255005598068236+-(2SEM)0.027590384124240336      \n",
      "Epoch 45 finished      \n",
      "avg. loss: 3.0336957931518556+-(2SEM)0.06861948594033507      \n",
      "Epoch 46 finished      \n",
      "avg. loss: 3.04962899684906+-(2SEM)0.05571187800280025      \n",
      "Epoch 47 finished      \n",
      "avg. loss: 3.032605290412903+-(2SEM)0.0631390946193845      \n",
      "Epoch 48 finished      \n",
      "avg. loss: 3.017256164550781+-(2SEM)0.05018779288456493      \n",
      "Epoch    48: reducing learning rate of group 0 to 5.0000e-05.\n",
      "Epoch 49 finished      \n",
      "avg. loss: 2.9862884998321535+-(2SEM)0.0584844673642019      \n",
      "Epoch 50 finished      \n",
      "avg. loss: 3.0303997874259947+-(2SEM)0.05047150056413379      \n",
      "Epoch 51 finished      \n",
      "avg. loss: 3.0046055912971497+-(2SEM)0.050855396106926944      \n",
      "Epoch 52 finished      \n",
      "avg. loss: 2.9882761359214784+-(2SEM)0.05032406735907205      \n",
      "Epoch 53 finished      \n",
      "avg. loss: 3.031409776210785+-(2SEM)0.053631267708933714      \n",
      "Epoch 54 finished      \n",
      "avg. loss: 3.013111436367035+-(2SEM)0.051706169113207204      \n",
      "Epoch 55 finished      \n",
      "avg. loss: 2.9741239666938784+-(2SEM)0.03808174008602462      \n",
      "Epoch 56 finished      \n",
      "avg. loss: 3.0088181495666504+-(2SEM)0.059478730646711366      \n",
      "Epoch 57 finished      \n",
      "avg. loss: 2.9473600149154664+-(2SEM)0.04217454885796882      \n",
      "Epoch 58 finished      \n",
      "avg. loss: 2.9833320498466493+-(2SEM)0.06039865550340856      \n",
      "Epoch 59 finished      \n",
      "avg. loss: 2.9655128955841064+-(2SEM)0.055628597750932866      \n",
      "Epoch 60 finished      \n",
      "avg. loss: 3.059090530872345+-(2SEM)0.04858196880208394      \n",
      "Epoch 61 finished      \n",
      "avg. loss: 3.00402649641037+-(2SEM)0.054767462645568823      \n",
      "Epoch 62 finished      \n",
      "avg. loss: 2.9961333513259887+-(2SEM)0.07018355560820025      \n",
      "Epoch 63 finished      \n",
      "avg. loss: 3.0216092109680175+-(2SEM)0.04614964338347388      \n",
      "Epoch 64 finished      \n",
      "avg. loss: 3.008153474330902+-(2SEM)0.06439972085274089      \n",
      "Epoch 65 finished      \n",
      "avg. loss: 3.0285444855690002+-(2SEM)0.042214585893740365      \n",
      "Epoch 66 finished      \n",
      "avg. loss: 2.988620102405548+-(2SEM)0.05020119035455823      \n",
      "Epoch 67 finished      \n",
      "avg. loss: 3.0006551146507263+-(2SEM)0.05085722865667508      \n",
      "Epoch 68 finished      \n",
      "avg. loss: 2.950120139122009+-(2SEM)0.0563753251438949      \n",
      "Epoch 69 finished      \n",
      "avg. loss: 2.9803593873977663+-(2SEM)0.060757982376667345      \n",
      "Epoch 70 finished      \n",
      "avg. loss: 2.9948018312454225+-(2SEM)0.04495037855232882      \n",
      "Epoch 71 finished      \n",
      "avg. loss: 2.9541972160339354+-(2SEM)0.04079221241878636      \n",
      "Epoch 72 finished      \n",
      "avg. loss: 3.0222963094711304+-(2SEM)0.035885206726535036      \n",
      "Epoch 73 finished      \n",
      "avg. loss: 2.989450752735138+-(2SEM)0.046908786277548846      \n",
      "Epoch 74 finished      \n",
      "avg. loss: 2.9924479842185976+-(2SEM)0.040114842174595856      \n",
      "Epoch 75 finished      \n",
      "avg. loss: 2.96794056892395+-(2SEM)0.03670441775459484      \n",
      "Epoch 76 finished      \n",
      "avg. loss: 3.0223037242889403+-(2SEM)0.049958626703067256      \n",
      "Epoch 77 finished      \n",
      "avg. loss: 2.9658686399459837+-(2SEM)0.056273579792948725      \n",
      "Epoch 78 finished      \n",
      "avg. loss: 2.950557839870453+-(2SEM)0.04647093012062319      \n",
      "Epoch    78: reducing learning rate of group 0 to 2.5000e-05.\n",
      "Epoch 79 finished      \n",
      "avg. loss: 3.009936535358429+-(2SEM)0.053161271586017925      \n",
      "Epoch 80 finished      \n",
      "avg. loss: 3.002648675441742+-(2SEM)0.04679844025896739      \n",
      "Epoch 81 finished      \n",
      "avg. loss: 3.016059732437134+-(2SEM)0.050574879973623255      \n",
      "Epoch 82 finished      \n",
      "avg. loss: 2.9959392070770265+-(2SEM)0.06480515563747376      \n",
      "Epoch 83 finished      \n",
      "avg. loss: 2.9772058486938477+-(2SEM)0.040894396691802476      \n",
      "Epoch 84 finished      \n",
      "avg. loss: 2.951687252521515+-(2SEM)0.05443067033507715      \n",
      "Epoch 85 finished      \n",
      "avg. loss: 2.9953266263008116+-(2SEM)0.056694080825662664      \n",
      "Epoch 86 finished      \n",
      "avg. loss: 2.9575916528701782+-(2SEM)0.04374074204343349      \n",
      "Epoch 87 finished      \n",
      "avg. loss: 2.954987442493439+-(2SEM)0.052806093155407165      \n",
      "Epoch 88 finished      \n",
      "avg. loss: 2.9800923705101012+-(2SEM)0.05956833985057234      \n",
      "Epoch 89 finished      \n",
      "avg. loss: 2.978886353969574+-(2SEM)0.05160529321229585      \n",
      "Epoch 90 finished      \n",
      "avg. loss: 3.011592781543732+-(2SEM)0.06168962115914936      \n",
      "Epoch 91 finished      \n",
      "avg. loss: 2.965235209465027+-(2SEM)0.044776344268923386      \n",
      "Epoch 92 finished      \n",
      "avg. loss: 3.0414645195007326+-(2SEM)0.04554850667315813      \n",
      "Epoch 93 finished      \n"
     ]
    },
    {
     "name": "stdout",
     "output_type": "stream",
     "text": [
      "avg. loss: 2.9893126010894777+-(2SEM)0.03777751898798125      \n",
      "Epoch 94 finished      \n",
      "avg. loss: 2.9578820705413817+-(2SEM)0.039771109735494685      \n",
      "Epoch 95 finished      \n",
      "avg. loss: 2.9842082023620606+-(2SEM)0.048265000148170124      \n",
      "Epoch    95: reducing learning rate of group 0 to 1.2500e-05.\n",
      "Epoch 96 finished      \n",
      "avg. loss: 3.00778489112854+-(2SEM)0.06178807346315834      \n",
      "Epoch 97 finished      \n",
      "avg. loss: 3.0171364545822144+-(2SEM)0.05281697251896338      \n",
      "Epoch 98 finished      \n",
      "avg. loss: 2.9695716500282288+-(2SEM)0.05347654407160439      \n",
      "Epoch 99 finished      \n",
      "avg. loss: 2.9975167512893677+-(2SEM)0.05205631424390405      \n",
      "Finished Training      \n"
     ]
    }
   ],
   "source": [
    "# Create a network with 800 output channels that are interpreted as samples from the prior.\n",
    "net = UNet(800, depth=3)\n",
    "\n",
    "# Split training and validation data.\n",
    "my_train_data=data[:-5].copy()\n",
    "my_val_data=data[-5:].copy()\n",
    "\n",
    "# Start training.\n",
    "trainHist, valHist = training.trainNetwork(net=net, trainData=my_train_data, valData=my_val_data,\n",
    "                                           postfix='conv', directory=path, noiseModel=noiseModel,\n",
    "                                           device=device, numOfEpochs= 100, stepsPerEpoch=5)"
   ]
  },
  {
   "cell_type": "code",
   "execution_count": 5,
   "metadata": {
    "scrolled": true
   },
   "outputs": [
    {
     "data": {
      "image/png": "[encoded data removed]",
      "text/plain": [
       "<Figure size 432x288 with 1 Axes>"
      ]
     },
     "metadata": {
      "needs_background": "light"
     },
     "output_type": "display_data"
    }
   ],
   "source": [
    "# Let's look at the training and validation loss\n",
    "plt.xlabel('epoch')\n",
    "plt.ylabel('loss')\n",
    "plt.plot(valHist, label='validation loss')\n",
    "plt.plot(trainHist, label='training loss')\n",
    "plt.legend()\n",
    "plt.show()"
   ]
  },
  {
   "cell_type": "code",
   "execution_count": null,
   "metadata": {},
   "outputs": [],
   "source": []
  }
 ],
 "metadata": {
  "kernelspec": {
   "display_name": "Python 3",
   "language": "python",
   "name": "python3"
  },
  "language_info": {
   "codemirror_mode": {
    "name": "ipython",
    "version": 3
   },
   "file_extension": ".py",
   "mimetype": "text/x-python",
   "name": "python",
   "nbconvert_exporter": "python",
   "pygments_lexer": "ipython3",
   "version": "3.7.1"
  }
 },
 "nbformat": 4,
 "nbformat_minor": 2
}
